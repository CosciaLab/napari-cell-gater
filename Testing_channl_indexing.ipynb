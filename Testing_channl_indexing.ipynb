{
 "cells": [
  {
   "cell_type": "code",
   "execution_count": 1,
   "metadata": {},
   "outputs": [],
   "source": [
    "import pandas as pd"
   ]
  },
  {
   "cell_type": "code",
   "execution_count": 2,
   "metadata": {},
   "outputs": [],
   "source": [
    "df = pd.read_csv(\"/Users/jnimoca/Jose_BI/data/mask_expansion_mesmer/quantification/1.csv\")"
   ]
  },
  {
   "cell_type": "code",
   "execution_count": 4,
   "metadata": {},
   "outputs": [
    {
     "data": {
      "text/plain": [
       "Index(['CellID', 'mean_750_bg', 'mean_647_bg', 'mean_555_bg', 'mean_488_bg',\n",
       "       'mean_DAPI_bg', 'mean_Ecadherin', 'mean_IDO', 'mean_panCK', 'mean_CD8',\n",
       "       ...\n",
       "       'quantile85_DAPI_5', 'Y_centroid', 'X_centroid', 'Area',\n",
       "       'MajorAxisLength', 'MinorAxisLength', 'Eccentricity', 'Orientation',\n",
       "       'Extent', 'Solidity'],\n",
       "      dtype='object', length=130)"
      ]
     },
     "execution_count": 4,
     "metadata": {},
     "output_type": "execute_result"
    }
   ],
   "source": [
    "df.columns"
   ]
  },
  {
   "cell_type": "code",
   "execution_count": 10,
   "metadata": {},
   "outputs": [
    {
     "name": "stdout",
     "output_type": "stream",
     "text": [
      "6\n",
      "30\n"
     ]
    }
   ],
   "source": [
    "lowerbound_index = column_ls.index(\"mean_Ecadherin\")\n",
    "print(lowerbound_index)\n",
    "upperbound_index = column_ls.index(\"mean_DAPI_5\")\n",
    "print(upperbound_index)"
   ]
  },
  {
   "cell_type": "code",
   "execution_count": 56,
   "metadata": {},
   "outputs": [],
   "source": [
    "import skimage.io as io\n",
    "im = io.imread(\"/Users/jnimoca/Jose_BI/data/mask_expansion_mesmer/dearray/1.ome.tif\")"
   ]
  },
  {
   "cell_type": "code",
   "execution_count": 46,
   "metadata": {},
   "outputs": [
    {
     "data": {
      "text/plain": [
       "(30, 8319, 8319)"
      ]
     },
     "execution_count": 46,
     "metadata": {},
     "output_type": "execute_result"
    }
   ],
   "source": [
    "im.shape"
   ]
  },
  {
   "cell_type": "code",
   "execution_count": 50,
   "metadata": {},
   "outputs": [
    {
     "data": {
      "text/plain": [
       "(30, 8319, 8319)"
      ]
     },
     "execution_count": 50,
     "metadata": {},
     "output_type": "execute_result"
    }
   ],
   "source": [
    "# get values from tuple\n",
    "im.shape"
   ]
  },
  {
   "cell_type": "code",
   "execution_count": null,
   "metadata": {},
   "outputs": [],
   "source": []
  },
  {
   "cell_type": "code",
   "execution_count": 55,
   "metadata": {},
   "outputs": [
    {
     "data": {
      "text/plain": [
       "30"
      ]
     },
     "execution_count": 55,
     "metadata": {},
     "output_type": "execute_result"
    }
   ],
   "source": [
    "import numpy\n",
    "numpy.min(list(im.shape))"
   ]
  },
  {
   "cell_type": "code",
   "execution_count": 44,
   "metadata": {},
   "outputs": [],
   "source": [
    "#remove CellID column\n",
    "columns = list(df.columns)[1:]\n",
    "\n",
    "df_column_image_channel_dict = {}\n",
    "\n",
    "n_channels = im.shape[0]\n",
    "\n",
    "# for each column assign a channel index\n",
    "for metric_round in range(0, len(columns)//im.shape[0]):\n",
    "    metric_index = metric_round * n_channels\n",
    "    for channel_index in range(1, n_channels+1):\n",
    "        df_column_image_channel_dict[columns[metric_index + channel_index-1]] = channel_index-1"
   ]
  },
  {
   "cell_type": "code",
   "execution_count": 45,
   "metadata": {},
   "outputs": [
    {
     "data": {
      "text/plain": [
       "{'mean_750_bg': 0,\n",
       " 'mean_647_bg': 1,\n",
       " 'mean_555_bg': 2,\n",
       " 'mean_488_bg': 3,\n",
       " 'mean_DAPI_bg': 4,\n",
       " 'mean_Ecadherin': 5,\n",
       " 'mean_IDO': 6,\n",
       " 'mean_panCK': 7,\n",
       " 'mean_CD8': 8,\n",
       " 'mean_DAPI_1': 9,\n",
       " 'mean_CTLA4': 10,\n",
       " 'mean_CD4': 11,\n",
       " 'mean_CD3': 12,\n",
       " 'mean_CD20': 13,\n",
       " 'mean_DAPI_2': 14,\n",
       " 'mean_TIM3': 15,\n",
       " 'mean_PDL1': 16,\n",
       " 'mean_CD68': 17,\n",
       " 'mean_KI67': 18,\n",
       " 'mean_DAPI_3': 19,\n",
       " 'mean_COL1A1': 20,\n",
       " 'mean_PD1': 21,\n",
       " 'mean_FOXP3': 22,\n",
       " 'mean_CD163': 23,\n",
       " 'mean_DAPI_4': 24,\n",
       " 'mean_Vimentin': 25,\n",
       " 'mean_VISTA': 26,\n",
       " 'mean_LAG3': 27,\n",
       " 'mean_CD138': 28,\n",
       " 'mean_DAPI_5': 29,\n",
       " 'median_750_bg': 0,\n",
       " 'median_647_bg': 1,\n",
       " 'median_555_bg': 2,\n",
       " 'median_488_bg': 3,\n",
       " 'median_DAPI_bg': 4,\n",
       " 'median_Ecadherin': 5,\n",
       " 'median_IDO': 6,\n",
       " 'median_panCK': 7,\n",
       " 'median_CD8': 8,\n",
       " 'median_DAPI_1': 9,\n",
       " 'median_CTLA4': 10,\n",
       " 'median_CD4': 11,\n",
       " 'median_CD3': 12,\n",
       " 'median_CD20': 13,\n",
       " 'median_DAPI_2': 14,\n",
       " 'median_TIM3': 15,\n",
       " 'median_PDL1': 16,\n",
       " 'median_CD68': 17,\n",
       " 'median_KI67': 18,\n",
       " 'median_DAPI_3': 19,\n",
       " 'median_COL1A1': 20,\n",
       " 'median_PD1': 21,\n",
       " 'median_FOXP3': 22,\n",
       " 'median_CD163': 23,\n",
       " 'median_DAPI_4': 24,\n",
       " 'median_Vimentin': 25,\n",
       " 'median_VISTA': 26,\n",
       " 'median_LAG3': 27,\n",
       " 'median_CD138': 28,\n",
       " 'median_DAPI_5': 29,\n",
       " 'quantile75_750_bg': 0,\n",
       " 'quantile75_647_bg': 1,\n",
       " 'quantile75_555_bg': 2,\n",
       " 'quantile75_488_bg': 3,\n",
       " 'quantile75_DAPI_bg': 4,\n",
       " 'quantile75_Ecadherin': 5,\n",
       " 'quantile75_IDO': 6,\n",
       " 'quantile75_panCK': 7,\n",
       " 'quantile75_CD8': 8,\n",
       " 'quantile75_DAPI_1': 9,\n",
       " 'quantile75_CTLA4': 10,\n",
       " 'quantile75_CD4': 11,\n",
       " 'quantile75_CD3': 12,\n",
       " 'quantile75_CD20': 13,\n",
       " 'quantile75_DAPI_2': 14,\n",
       " 'quantile75_TIM3': 15,\n",
       " 'quantile75_PDL1': 16,\n",
       " 'quantile75_CD68': 17,\n",
       " 'quantile75_KI67': 18,\n",
       " 'quantile75_DAPI_3': 19,\n",
       " 'quantile75_COL1A1': 20,\n",
       " 'quantile75_PD1': 21,\n",
       " 'quantile75_FOXP3': 22,\n",
       " 'quantile75_CD163': 23,\n",
       " 'quantile75_DAPI_4': 24,\n",
       " 'quantile75_Vimentin': 25,\n",
       " 'quantile75_VISTA': 26,\n",
       " 'quantile75_LAG3': 27,\n",
       " 'quantile75_CD138': 28,\n",
       " 'quantile75_DAPI_5': 29,\n",
       " 'quantile85_750_bg': 0,\n",
       " 'quantile85_647_bg': 1,\n",
       " 'quantile85_555_bg': 2,\n",
       " 'quantile85_488_bg': 3,\n",
       " 'quantile85_DAPI_bg': 4,\n",
       " 'quantile85_Ecadherin': 5,\n",
       " 'quantile85_IDO': 6,\n",
       " 'quantile85_panCK': 7,\n",
       " 'quantile85_CD8': 8,\n",
       " 'quantile85_DAPI_1': 9,\n",
       " 'quantile85_CTLA4': 10,\n",
       " 'quantile85_CD4': 11,\n",
       " 'quantile85_CD3': 12,\n",
       " 'quantile85_CD20': 13,\n",
       " 'quantile85_DAPI_2': 14,\n",
       " 'quantile85_TIM3': 15,\n",
       " 'quantile85_PDL1': 16,\n",
       " 'quantile85_CD68': 17,\n",
       " 'quantile85_KI67': 18,\n",
       " 'quantile85_DAPI_3': 19,\n",
       " 'quantile85_COL1A1': 20,\n",
       " 'quantile85_PD1': 21,\n",
       " 'quantile85_FOXP3': 22,\n",
       " 'quantile85_CD163': 23,\n",
       " 'quantile85_DAPI_4': 24,\n",
       " 'quantile85_Vimentin': 25,\n",
       " 'quantile85_VISTA': 26,\n",
       " 'quantile85_LAG3': 27,\n",
       " 'quantile85_CD138': 28,\n",
       " 'quantile85_DAPI_5': 29}"
      ]
     },
     "execution_count": 45,
     "metadata": {},
     "output_type": "execute_result"
    }
   ],
   "source": [
    "df_column_image_channel_dict"
   ]
  },
  {
   "cell_type": "code",
   "execution_count": null,
   "metadata": {},
   "outputs": [],
   "source": []
  },
  {
   "cell_type": "code",
   "execution_count": 57,
   "metadata": {},
   "outputs": [],
   "source": [
    "image_shape = im.shape\n",
    "n_channels = image_shape[0]"
   ]
  },
  {
   "cell_type": "code",
   "execution_count": 58,
   "metadata": {},
   "outputs": [],
   "source": [
    "columns = list(df.columns)[1:]"
   ]
  },
  {
   "cell_type": "code",
   "execution_count": 59,
   "metadata": {},
   "outputs": [
    {
     "data": {
      "text/plain": [
       "['mean_750_bg',\n",
       " 'mean_647_bg',\n",
       " 'mean_555_bg',\n",
       " 'mean_488_bg',\n",
       " 'mean_DAPI_bg',\n",
       " 'mean_Ecadherin',\n",
       " 'mean_IDO',\n",
       " 'mean_panCK',\n",
       " 'mean_CD8',\n",
       " 'mean_DAPI_1',\n",
       " 'mean_CTLA4',\n",
       " 'mean_CD4',\n",
       " 'mean_CD3',\n",
       " 'mean_CD20',\n",
       " 'mean_DAPI_2',\n",
       " 'mean_TIM3',\n",
       " 'mean_PDL1',\n",
       " 'mean_CD68',\n",
       " 'mean_KI67',\n",
       " 'mean_DAPI_3',\n",
       " 'mean_COL1A1',\n",
       " 'mean_PD1',\n",
       " 'mean_FOXP3',\n",
       " 'mean_CD163',\n",
       " 'mean_DAPI_4',\n",
       " 'mean_Vimentin',\n",
       " 'mean_VISTA',\n",
       " 'mean_LAG3',\n",
       " 'mean_CD138',\n",
       " 'mean_DAPI_5',\n",
       " 'median_750_bg',\n",
       " 'median_647_bg',\n",
       " 'median_555_bg',\n",
       " 'median_488_bg',\n",
       " 'median_DAPI_bg',\n",
       " 'median_Ecadherin',\n",
       " 'median_IDO',\n",
       " 'median_panCK',\n",
       " 'median_CD8',\n",
       " 'median_DAPI_1',\n",
       " 'median_CTLA4',\n",
       " 'median_CD4',\n",
       " 'median_CD3',\n",
       " 'median_CD20',\n",
       " 'median_DAPI_2',\n",
       " 'median_TIM3',\n",
       " 'median_PDL1',\n",
       " 'median_CD68',\n",
       " 'median_KI67',\n",
       " 'median_DAPI_3',\n",
       " 'median_COL1A1',\n",
       " 'median_PD1',\n",
       " 'median_FOXP3',\n",
       " 'median_CD163',\n",
       " 'median_DAPI_4',\n",
       " 'median_Vimentin',\n",
       " 'median_VISTA',\n",
       " 'median_LAG3',\n",
       " 'median_CD138',\n",
       " 'median_DAPI_5',\n",
       " 'quantile75_750_bg',\n",
       " 'quantile75_647_bg',\n",
       " 'quantile75_555_bg',\n",
       " 'quantile75_488_bg',\n",
       " 'quantile75_DAPI_bg',\n",
       " 'quantile75_Ecadherin',\n",
       " 'quantile75_IDO',\n",
       " 'quantile75_panCK',\n",
       " 'quantile75_CD8',\n",
       " 'quantile75_DAPI_1',\n",
       " 'quantile75_CTLA4',\n",
       " 'quantile75_CD4',\n",
       " 'quantile75_CD3',\n",
       " 'quantile75_CD20',\n",
       " 'quantile75_DAPI_2',\n",
       " 'quantile75_TIM3',\n",
       " 'quantile75_PDL1',\n",
       " 'quantile75_CD68',\n",
       " 'quantile75_KI67',\n",
       " 'quantile75_DAPI_3',\n",
       " 'quantile75_COL1A1',\n",
       " 'quantile75_PD1',\n",
       " 'quantile75_FOXP3',\n",
       " 'quantile75_CD163',\n",
       " 'quantile75_DAPI_4',\n",
       " 'quantile75_Vimentin',\n",
       " 'quantile75_VISTA',\n",
       " 'quantile75_LAG3',\n",
       " 'quantile75_CD138',\n",
       " 'quantile75_DAPI_5',\n",
       " 'quantile85_750_bg',\n",
       " 'quantile85_647_bg',\n",
       " 'quantile85_555_bg',\n",
       " 'quantile85_488_bg',\n",
       " 'quantile85_DAPI_bg',\n",
       " 'quantile85_Ecadherin',\n",
       " 'quantile85_IDO',\n",
       " 'quantile85_panCK',\n",
       " 'quantile85_CD8',\n",
       " 'quantile85_DAPI_1',\n",
       " 'quantile85_CTLA4',\n",
       " 'quantile85_CD4',\n",
       " 'quantile85_CD3',\n",
       " 'quantile85_CD20',\n",
       " 'quantile85_DAPI_2',\n",
       " 'quantile85_TIM3',\n",
       " 'quantile85_PDL1',\n",
       " 'quantile85_CD68',\n",
       " 'quantile85_KI67',\n",
       " 'quantile85_DAPI_3',\n",
       " 'quantile85_COL1A1',\n",
       " 'quantile85_PD1',\n",
       " 'quantile85_FOXP3',\n",
       " 'quantile85_CD163',\n",
       " 'quantile85_DAPI_4',\n",
       " 'quantile85_Vimentin',\n",
       " 'quantile85_VISTA',\n",
       " 'quantile85_LAG3',\n",
       " 'quantile85_CD138',\n",
       " 'quantile85_DAPI_5',\n",
       " 'Y_centroid',\n",
       " 'X_centroid',\n",
       " 'Area',\n",
       " 'MajorAxisLength',\n",
       " 'MinorAxisLength',\n",
       " 'Eccentricity',\n",
       " 'Orientation',\n",
       " 'Extent',\n",
       " 'Solidity']"
      ]
     },
     "execution_count": 59,
     "metadata": {},
     "output_type": "execute_result"
    }
   ],
   "source": [
    "columns"
   ]
  },
  {
   "cell_type": "code",
   "execution_count": 60,
   "metadata": {},
   "outputs": [],
   "source": [
    "dict = {}\n",
    "\n",
    "# for each column assign a channel index\n",
    "for metric_round in range(0, len(columns)//n_channels):\n",
    "    metric_index = metric_round * n_channels\n",
    "    for channel_index in range(1, n_channels+1):\n",
    "        dict[columns[int(metric_index) + int(channel_index)-1]] = channel_index-1"
   ]
  },
  {
   "cell_type": "code",
   "execution_count": 61,
   "metadata": {},
   "outputs": [
    {
     "data": {
      "text/plain": [
       "{'mean_750_bg': 0,\n",
       " 'mean_647_bg': 1,\n",
       " 'mean_555_bg': 2,\n",
       " 'mean_488_bg': 3,\n",
       " 'mean_DAPI_bg': 4,\n",
       " 'mean_Ecadherin': 5,\n",
       " 'mean_IDO': 6,\n",
       " 'mean_panCK': 7,\n",
       " 'mean_CD8': 8,\n",
       " 'mean_DAPI_1': 9,\n",
       " 'mean_CTLA4': 10,\n",
       " 'mean_CD4': 11,\n",
       " 'mean_CD3': 12,\n",
       " 'mean_CD20': 13,\n",
       " 'mean_DAPI_2': 14,\n",
       " 'mean_TIM3': 15,\n",
       " 'mean_PDL1': 16,\n",
       " 'mean_CD68': 17,\n",
       " 'mean_KI67': 18,\n",
       " 'mean_DAPI_3': 19,\n",
       " 'mean_COL1A1': 20,\n",
       " 'mean_PD1': 21,\n",
       " 'mean_FOXP3': 22,\n",
       " 'mean_CD163': 23,\n",
       " 'mean_DAPI_4': 24,\n",
       " 'mean_Vimentin': 25,\n",
       " 'mean_VISTA': 26,\n",
       " 'mean_LAG3': 27,\n",
       " 'mean_CD138': 28,\n",
       " 'mean_DAPI_5': 29,\n",
       " 'median_750_bg': 0,\n",
       " 'median_647_bg': 1,\n",
       " 'median_555_bg': 2,\n",
       " 'median_488_bg': 3,\n",
       " 'median_DAPI_bg': 4,\n",
       " 'median_Ecadherin': 5,\n",
       " 'median_IDO': 6,\n",
       " 'median_panCK': 7,\n",
       " 'median_CD8': 8,\n",
       " 'median_DAPI_1': 9,\n",
       " 'median_CTLA4': 10,\n",
       " 'median_CD4': 11,\n",
       " 'median_CD3': 12,\n",
       " 'median_CD20': 13,\n",
       " 'median_DAPI_2': 14,\n",
       " 'median_TIM3': 15,\n",
       " 'median_PDL1': 16,\n",
       " 'median_CD68': 17,\n",
       " 'median_KI67': 18,\n",
       " 'median_DAPI_3': 19,\n",
       " 'median_COL1A1': 20,\n",
       " 'median_PD1': 21,\n",
       " 'median_FOXP3': 22,\n",
       " 'median_CD163': 23,\n",
       " 'median_DAPI_4': 24,\n",
       " 'median_Vimentin': 25,\n",
       " 'median_VISTA': 26,\n",
       " 'median_LAG3': 27,\n",
       " 'median_CD138': 28,\n",
       " 'median_DAPI_5': 29,\n",
       " 'quantile75_750_bg': 0,\n",
       " 'quantile75_647_bg': 1,\n",
       " 'quantile75_555_bg': 2,\n",
       " 'quantile75_488_bg': 3,\n",
       " 'quantile75_DAPI_bg': 4,\n",
       " 'quantile75_Ecadherin': 5,\n",
       " 'quantile75_IDO': 6,\n",
       " 'quantile75_panCK': 7,\n",
       " 'quantile75_CD8': 8,\n",
       " 'quantile75_DAPI_1': 9,\n",
       " 'quantile75_CTLA4': 10,\n",
       " 'quantile75_CD4': 11,\n",
       " 'quantile75_CD3': 12,\n",
       " 'quantile75_CD20': 13,\n",
       " 'quantile75_DAPI_2': 14,\n",
       " 'quantile75_TIM3': 15,\n",
       " 'quantile75_PDL1': 16,\n",
       " 'quantile75_CD68': 17,\n",
       " 'quantile75_KI67': 18,\n",
       " 'quantile75_DAPI_3': 19,\n",
       " 'quantile75_COL1A1': 20,\n",
       " 'quantile75_PD1': 21,\n",
       " 'quantile75_FOXP3': 22,\n",
       " 'quantile75_CD163': 23,\n",
       " 'quantile75_DAPI_4': 24,\n",
       " 'quantile75_Vimentin': 25,\n",
       " 'quantile75_VISTA': 26,\n",
       " 'quantile75_LAG3': 27,\n",
       " 'quantile75_CD138': 28,\n",
       " 'quantile75_DAPI_5': 29,\n",
       " 'quantile85_750_bg': 0,\n",
       " 'quantile85_647_bg': 1,\n",
       " 'quantile85_555_bg': 2,\n",
       " 'quantile85_488_bg': 3,\n",
       " 'quantile85_DAPI_bg': 4,\n",
       " 'quantile85_Ecadherin': 5,\n",
       " 'quantile85_IDO': 6,\n",
       " 'quantile85_panCK': 7,\n",
       " 'quantile85_CD8': 8,\n",
       " 'quantile85_DAPI_1': 9,\n",
       " 'quantile85_CTLA4': 10,\n",
       " 'quantile85_CD4': 11,\n",
       " 'quantile85_CD3': 12,\n",
       " 'quantile85_CD20': 13,\n",
       " 'quantile85_DAPI_2': 14,\n",
       " 'quantile85_TIM3': 15,\n",
       " 'quantile85_PDL1': 16,\n",
       " 'quantile85_CD68': 17,\n",
       " 'quantile85_KI67': 18,\n",
       " 'quantile85_DAPI_3': 19,\n",
       " 'quantile85_COL1A1': 20,\n",
       " 'quantile85_PD1': 21,\n",
       " 'quantile85_FOXP3': 22,\n",
       " 'quantile85_CD163': 23,\n",
       " 'quantile85_DAPI_4': 24,\n",
       " 'quantile85_Vimentin': 25,\n",
       " 'quantile85_VISTA': 26,\n",
       " 'quantile85_LAG3': 27,\n",
       " 'quantile85_CD138': 28,\n",
       " 'quantile85_DAPI_5': 29}"
      ]
     },
     "execution_count": 61,
     "metadata": {},
     "output_type": "execute_result"
    }
   ],
   "source": [
    "dict"
   ]
  }
 ],
 "metadata": {
  "kernelspec": {
   "display_name": "napari",
   "language": "python",
   "name": "python3"
  },
  "language_info": {
   "codemirror_mode": {
    "name": "ipython",
    "version": 3
   },
   "file_extension": ".py",
   "mimetype": "text/x-python",
   "name": "python",
   "nbconvert_exporter": "python",
   "pygments_lexer": "ipython3",
   "version": "3.10.14"
  }
 },
 "nbformat": 4,
 "nbformat_minor": 2
}
